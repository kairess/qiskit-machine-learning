{
 "cells": [
  {
   "cell_type": "markdown",
   "metadata": {
    "slideshow": {
     "slide_type": "slide"
    }
   },
   "source": [
    "# An Introduction to Qiskit Machine Learning\n",
    "\n",
    "Original notebook: https://github.com/qiskit-community/qiskit-application-modules-demo-sessions/blob/main/qiskit-machine-learning/qiskit-machine-learning-demo.ipynb\n",
    "\n",
    "Anton Dekusar<br/>\n",
    "IBM Quantum, IBM Research Europe - Dublin"
   ]
  },
  {
   "cell_type": "markdown",
   "metadata": {
    "slideshow": {
     "slide_type": "slide"
    }
   },
   "source": [
    "# Contents\n",
    "\n",
    "* Overview of Qiskit Machine Learning\n",
    "* Support Vector Machine\n",
    "* Quantum Support Vector Machine\n",
    "* Quantum Kernel Demo"
   ]
  },
  {
   "cell_type": "markdown",
   "metadata": {
    "slideshow": {
     "slide_type": "slide"
    }
   },
   "source": [
    "# Overview of Qiskit Machine Learning"
   ]
  },
  {
   "cell_type": "markdown",
   "metadata": {
    "slideshow": {
     "slide_type": "slide"
    }
   },
   "source": [
    "# Qiskit machine learning\n",
    "<br>\n",
    "<center>\n",
    "    <img src=\"images/qml1.png\">\n",
    "</center>"
   ]
  },
  {
   "cell_type": "markdown",
   "metadata": {
    "slideshow": {
     "slide_type": "slide"
    }
   },
   "source": [
    "# Support Vector Machine"
   ]
  },
  {
   "cell_type": "markdown",
   "metadata": {
    "slideshow": {
     "slide_type": "slide"
    }
   },
   "source": [
    "# Classification Problem\n",
    "<div style=\"float: left; width: 50%;\">\n",
    "<br>\n",
    "Supervised binary classification\n",
    "\n",
    "train set: $T = \\{\\mathbf{x}_1, \\mathbf{x}_2, ..., \\mathbf{x}_M\\}, \\: \\mathbf{x}_i \\in \\mathbb{R}^s$\n",
    "    \n",
    "class map: $c_{T} \\rightarrow \\{+1, -1\\}$   \n",
    "\n",
    "test set: $S = \\{\\mathbf{x}_1', \\mathbf{x}_2', ..., \\mathbf{x}_m'\\}$\n",
    "<br>    \n",
    "    \n",
    "A classification map for all $\\mathbf{x}$ is unknown:\n",
    "    \n",
    "map: $c: \\mathbf{x} \\rightarrow \\{+1, -1\\}, \\, \\forall \\mathbf{x}$    \n",
    "<br>\n",
    "Goal: find a class map $\\widetilde{c} : T \\cup \\ S \\rightarrow \\{+1, -1\\}\\,$ that agrees well with the unknown map $c$ determining all true labels.\n",
    "\n",
    "</div>\n",
    "<div style=\"float: right; width: 50%; padding-right=20px;\">\n",
    "    <img src=\"images/svm0.png\">\n",
    "    <br>\n",
    "</div>"
   ]
  },
  {
   "cell_type": "markdown",
   "metadata": {
    "slideshow": {
     "slide_type": "slide"
    }
   },
   "source": [
    "# Support Vector Machine\n",
    "<div style=\"float: left; width: 50%;\">\n",
    "<br>\n",
    "Linear decision function\n",
    "\n",
    "$$\n",
    "\\widetilde{c}_{\\text{SVM}}(\\mathbf{x}) = \\mathrm{sign}(\\mathbf{w}^T\\mathbf{x} - b)\n",
    "$$\n",
    "\n",
    "This only works for linearly separable data\n",
    "\n",
    "Objective is to maximize the margin\n",
    "\n",
    "$$\n",
    "\\min_{\\mathbf{w} \\in \\mathbb{R}^s, \\, b \\in \\mathbb{R}} ||\\mathbf{w}||^2 \\\\\n",
    "\\text{s. t. } y_i(\\mathbf{w}^T \\mathbf{x}_i - b) \\geq 1\n",
    "$$\n",
    "\n",
    "</div>\n",
    "<div style=\"float: right; width: 50%; padding-right=20px;\">\n",
    "    <img src=\"images/svm1.png\">\n",
    "    <br>\n",
    "</div>"
   ]
  },
  {
   "cell_type": "markdown",
   "metadata": {
    "slideshow": {
     "slide_type": "slide"
    }
   },
   "source": [
    "# Kernelized SVM\n",
    "<div style=\"float: left; width: 50%;\">\n",
    "<br>\n",
    "Introduce a nonlinear feature transformation\n",
    "\n",
    "$$\n",
    "\\phi : \\mathbb{R}^s \\rightarrow \\ \\mathcal{V}, \\text{ where} \\mathcal{V} \\text{ a Hilbert space} \\\\\n",
    "\\widetilde{c}_{\\text{SVM}}(\\mathbf{x}) = \\mathrm{sign}(\\langle \\mathbf{w}, \\phi({\\mathbf{x})}\\rangle_{\\nu} - b)\n",
    "$$\n",
    "\n",
    "Linear in feature space, but nonlinear in the original space\n",
    "\n",
    "Kernel trick is to rewrite the SVM problem to only explicitly depend on\n",
    "\n",
    "$$\n",
    "k(\\mathbf{x}, \\mathbf{x'}) = \\langle\\phi{(\\mathbf{x})}, \\phi{(\\mathbf{x'})}\\rangle_{\\nu}\n",
    "$$\n",
    "\n",
    "not the feature vectors $\\phi(\\mathbf{x})$.\n",
    "    \n",
    "</div>\n",
    "<div style=\"float: right; width: 50%; padding-right=20px;\">\n",
    "    <img src=\"images/svm2.png\">\n",
    "    <br>\n",
    "</div>"
   ]
  },
  {
   "cell_type": "markdown",
   "metadata": {
    "slideshow": {
     "slide_type": "slide"
    }
   },
   "source": [
    "# Kernelized SVM\n",
    "<div style=\"float: left; width: 50%;\">\n",
    "<br>\n",
    "Original data \n",
    "$$\\mathbf{x} \\in \\mathbb{R}^2$$\n",
    "\n",
    "Feature map $$\\phi(\\mathbf{x}) = (x_1, x_2, x_1^2 + x_2^2) \\in \\mathbb{R}^3$$\n",
    "\n",
    "Kernel $$k(\\mathbf{x}, \\mathbf{x'}) = \\phi(\\mathbf{x}) \\cdot \\phi(\\mathbf{x'}) = \\mathbf{x} \\cdot \\mathbf{x'} + ||\\mathbf{x}||^2 ||\\mathbf{x'}||^2$$\n",
    "    \n",
    "</div>\n",
    "<div style=\"float: right; width: 50%; padding-right=20px;\">\n",
    "    <center>\n",
    "    <img src=\"images/svm5.png\"/>\n",
    "    </center>\n",
    "</div>"
   ]
  },
  {
   "cell_type": "markdown",
   "metadata": {
    "slideshow": {
     "slide_type": "slide"
    }
   },
   "source": [
    "# Quantum Support Vector Machine"
   ]
  },
  {
   "cell_type": "markdown",
   "metadata": {
    "slideshow": {
     "slide_type": "slide"
    }
   },
   "source": [
    "# Quantum SVM\n",
    "<div style=\"float: left; width: 50%;\">\n",
    "<br>\n",
    "Optimization is like in regular SVM, on a classical computer\n",
    "\n",
    "Feature map is defined as a quantum circuit $\\mathcal{E}(\\mathbf{x})$:\n",
    "\n",
    "$$\n",
    "\\begin{align}\n",
    "\\psi : \\mathbb{R}^s & \\rightarrow \\mathcal{S}(2^q) \\\\\n",
    "\\mathbf{x} & \\mapsto |\\psi(\\mathbf{x})\\rangle \\langle\\psi(\\mathbf{x})| \\\\\n",
    "\\end{align}\n",
    "$$\n",
    "\n",
    "Quantum Kernel as a Hilbert-Schmidt inner product:\n",
    "\n",
    "$$\n",
    "\\begin{align}\n",
    "k(\\mathbf{x}, \\mathbf{x'}) & = \\mathrm{tr}[|\\psi(\\mathbf{x'})\\rangle \\langle\\psi(\\mathbf{x'})| \\, |\\psi(\\mathbf{x})\\rangle \\langle\\psi(\\mathbf{x})|] \\\\\n",
    "& = |\\langle\\psi(\\mathbf{x'})|\\psi(\\mathbf{x})\\rangle|^2 \\\\\n",
    "& = |\\langle0|\\mathcal{E}(\\mathbf{x'})^\\dagger\\mathcal{E}(\\mathbf{x})|0\\rangle|^2\n",
    "\\end{align}\n",
    "$$\n",
    "\n",
    "</div>\n",
    "<div style=\"float: right; width: 50%; padding-right=20px;\">\n",
    "    <center>\n",
    "    <img src=\"images/qsvm.png\"/>\n",
    "    </center>\n",
    "</div>"
   ]
  },
  {
   "cell_type": "markdown",
   "metadata": {
    "slideshow": {
     "slide_type": "slide"
    }
   },
   "source": [
    "# Quantum Kernel Demo"
   ]
  },
  {
   "cell_type": "code",
   "execution_count": 10,
   "metadata": {
    "slideshow": {
     "slide_type": "skip"
    }
   },
   "outputs": [],
   "source": [
    "import matplotlib.pyplot as plt\n",
    "import numpy as np\n",
    "from qiskit.utils import algorithm_globals\n",
    "\n",
    "seed = 2022\n",
    "algorithm_globals.random_seed = seed"
   ]
  },
  {
   "cell_type": "markdown",
   "metadata": {
    "slideshow": {
     "slide_type": "slide"
    }
   },
   "source": [
    "# Classification Example\n",
    "\n",
    "For our classification example, we will use:\n",
    "\n",
    "* _ad hoc dataset_ as described in \"Supervised learning with quantum enhanced feature spaces\" (https://www.nature.com/articles/s41586-019-0980-2)\n",
    "* `scikit-learn` Support Vector Machine (https://scikit-learn.org/stable/modules/svm.html) classification (`SVC`) algorithm.\n",
    "* A `QSVC` wrapper from Qiskit Machine Learning."
   ]
  },
  {
   "cell_type": "markdown",
   "metadata": {
    "slideshow": {
     "slide_type": "slide"
    }
   },
   "source": [
    "Let's sample our train and test datasets using an utility function provided in Qiskit Machine Leanrning. We choose a number of dimensions for our dataset as `adhoc_dimensions = 2`."
   ]
  },
  {
   "cell_type": "code",
   "execution_count": 11,
   "metadata": {
    "scrolled": false,
    "slideshow": {
     "slide_type": "fragment"
    },
    "tags": [
     "nbsphinx-thumbnail"
    ]
   },
   "outputs": [
    {
     "data": {
      "image/png": "[encoded data removed]",
      "text/plain": [
       "<Figure size 1152x1152 with 1 Axes>"
      ]
     },
     "metadata": {
      "needs_background": "light"
     },
     "output_type": "display_data"
    }
   ],
   "source": [
    "from qiskit_machine_learning.datasets import ad_hoc_data\n",
    "\n",
    "adhoc_dimension = 2\n",
    "x_train, y_train, x_test, y_test, adhoc_total = ad_hoc_data(\n",
    "    training_size=50,\n",
    "    test_size=10,\n",
    "    n=adhoc_dimension,\n",
    "    gap=0.3,\n",
    "    plot_data=False,\n",
    "    one_hot=False,\n",
    "    include_sample_total=True\n",
    ")\n",
    "\n",
    "plt.figure(figsize=(16, 16))\n",
    "plt.ylim(0, 2 * np.pi)\n",
    "plt.xlim(0, 2 * np.pi)\n",
    "plt.imshow(np.asmatrix(adhoc_total).T, interpolation='nearest',\n",
    "           origin='lower', cmap='RdBu', extent=[0, 2 * np.pi, 0, 2 * np.pi])\n",
    "\n",
    "plt.scatter(x_train[np.where(y_train[:] == 0), 0], x_train[np.where(y_train[:] == 0), 1],\n",
    "            marker='s', facecolors='w', edgecolors='b', label=\"A train\")\n",
    "plt.scatter(x_train[np.where(y_train[:] == 1), 0], x_train[np.where(y_train[:] == 1), 1],\n",
    "            marker='o', facecolors='w', edgecolors='r', label=\"B train\")\n",
    "plt.scatter(x_test[np.where(y_test[:] == 0), 0], x_test[np.where(y_test[:] == 0), 1],\n",
    "            marker='s', facecolors='b', edgecolors='w', label=\"A test\")\n",
    "plt.scatter(x_test[np.where(y_test[:] == 1), 0], x_test[np.where(y_test[:] == 1), 1],\n",
    "            marker='o', facecolors='r', edgecolors='w', label=\"B test\")\n",
    "\n",
    "plt.legend(bbox_to_anchor=(1.05, 1), loc='upper left', borderaxespad=0.)\n",
    "plt.title(\"Ad hoc dataset for classification\")\n",
    "plt.show()"
   ]
  },
  {
   "cell_type": "markdown",
   "metadata": {},
   "source": [
    "## Classic SVM\n",
    "\n",
    "https://scikit-learn.org/stable/modules/generated/sklearn.svm.SVC.html\n",
    "\n",
    "kernel{‘linear’, ‘poly’, ‘rbf’, ‘sigmoid’, ‘precomputed’} or callable, default=’rbf’"
   ]
  },
  {
   "cell_type": "code",
   "execution_count": 12,
   "metadata": {},
   "outputs": [
    {
     "data": {
      "text/plain": [
       "0.7"
      ]
     },
     "execution_count": 12,
     "metadata": {},
     "output_type": "execute_result"
    }
   ],
   "source": [
    "from sklearn.svm import SVC\n",
    "\n",
    "svc = SVC()\n",
    "svc.fit(x_train, y_train)\n",
    "svc.score(x_test, y_test)"
   ]
  },
  {
   "cell_type": "markdown",
   "metadata": {},
   "source": [
    "### SVM with custom kernel\n",
    "\n",
    "https://scikit-learn.org/stable/auto_examples/svm/plot_custom_kernel.html"
   ]
  },
  {
   "cell_type": "code",
   "execution_count": 13,
   "metadata": {},
   "outputs": [
    {
     "data": {
      "text/plain": [
       "0.5"
      ]
     },
     "execution_count": 13,
     "metadata": {},
     "output_type": "execute_result"
    }
   ],
   "source": [
    "def my_kernel(X, Y):\n",
    "    \"\"\"\n",
    "    We create a custom kernel:\n",
    "\n",
    "                 (2  0)\n",
    "    k(X, Y) = X  (    ) Y.T\n",
    "                 (0  1)\n",
    "    \"\"\"\n",
    "    M = np.array([[2, 0], [0, 1.0]])\n",
    "    return np.dot(np.dot(X, M), Y.T)\n",
    "\n",
    "svc = SVC(kernel=my_kernel)\n",
    "svc.fit(x_train, y_train)\n",
    "svc.score(x_test, y_test)"
   ]
  },
  {
   "cell_type": "markdown",
   "metadata": {},
   "source": [
    "# Qiskit ML"
   ]
  },
  {
   "cell_type": "markdown",
   "metadata": {
    "slideshow": {
     "slide_type": "slide"
    }
   },
   "source": [
    "With our training and testing datasets ready, we set up the `QuantumKernel` class to calculate a kernel matrix using the `ZFeatureMap`, and the `Aer` `qasm_simulator` using 1024 shots."
   ]
  },
  {
   "cell_type": "code",
   "execution_count": 14,
   "metadata": {
    "slideshow": {
     "slide_type": "fragment"
    }
   },
   "outputs": [],
   "source": [
    "from qiskit import Aer\n",
    "from qiskit.utils import QuantumInstance\n",
    "\n",
    "quantum_instance = QuantumInstance(\n",
    "    Aer.get_backend('qasm_simulator'),\n",
    "    shots=1024,\n",
    "    seed_simulator=seed,\n",
    "    seed_transpiler=seed)"
   ]
  },
  {
   "cell_type": "markdown",
   "metadata": {},
   "source": [
    "## ZFeatureMap"
   ]
  },
  {
   "cell_type": "code",
   "execution_count": 15,
   "metadata": {
    "slideshow": {
     "slide_type": "fragment"
    }
   },
   "outputs": [
    {
     "data": {
      "image/png": "[encoded data removed]",
      "text/plain": [
       "<Figure size 534.104x288.96 with 1 Axes>"
      ]
     },
     "execution_count": 15,
     "metadata": {},
     "output_type": "execute_result"
    }
   ],
   "source": [
    "from qiskit.circuit.library import ZFeatureMap\n",
    "from qiskit_machine_learning.kernels import QuantumKernel\n",
    "\n",
    "z_feature_map = ZFeatureMap(feature_dimension=adhoc_dimension, reps=2)\n",
    "\n",
    "z_kernel = QuantumKernel(feature_map=z_feature_map, quantum_instance=quantum_instance)\n",
    "\n",
    "z_feature_map.draw(output=\"mpl\", scale=2)"
   ]
  },
  {
   "cell_type": "code",
   "execution_count": 16,
   "metadata": {
    "slideshow": {
     "slide_type": "fragment"
    }
   },
   "outputs": [
    {
     "data": {
      "image/png": "[encoded data removed]",
      "text/plain": [
       "<Figure size 981.756x433.44 with 1 Axes>"
      ]
     },
     "execution_count": 16,
     "metadata": {},
     "output_type": "execute_result"
    }
   ],
   "source": [
    "z_feature_map.decompose().draw(output=\"mpl\", scale=3)"
   ]
  },
  {
   "cell_type": "markdown",
   "metadata": {
    "slideshow": {
     "slide_type": "slide"
    }
   },
   "source": [
    "The `scikit-learn` `SVC` algorithm allows us to define a custom kernel in two ways: \n",
    "\n",
    "* By providing the kernel as a callable function\n",
    "* By precomputing the kernel matrix. \n",
    "\n",
    "We can do either of these using the `QuantumKernel` class in Qiskit Machine Learning. See https://scikit-learn.org/stable/modules/svm.html#custom-kernels for more details.\n",
    "\n",
    "In this demo we provide kernel as a callable function:"
   ]
  },
  {
   "cell_type": "code",
   "execution_count": 17,
   "metadata": {
    "slideshow": {
     "slide_type": "fragment"
    }
   },
   "outputs": [
    {
     "data": {
      "text/plain": [
       "0.7"
      ]
     },
     "execution_count": 17,
     "metadata": {},
     "output_type": "execute_result"
    }
   ],
   "source": [
    "from sklearn.svm import SVC\n",
    "\n",
    "svc = SVC(kernel=z_kernel.evaluate)\n",
    "svc.fit(x_train, y_train)\n",
    "svc.score(x_test, y_test)"
   ]
  },
  {
   "cell_type": "markdown",
   "metadata": {},
   "source": [
    "## ZZFeatureMap\n",
    "\n",
    "> 주의: 이거 실행하니 맥북이 터질라 함"
   ]
  },
  {
   "cell_type": "code",
   "execution_count": 18,
   "metadata": {
    "slideshow": {
     "slide_type": "fragment"
    }
   },
   "outputs": [
    {
     "data": {
      "image/png": "[encoded data removed]",
      "text/plain": [
       "<Figure size 1858.5x288.96 with 1 Axes>"
      ]
     },
     "execution_count": 18,
     "metadata": {},
     "output_type": "execute_result"
    }
   ],
   "source": [
    "from qiskit.circuit.library import ZZFeatureMap\n",
    "\n",
    "zz_feature_map = ZZFeatureMap(feature_dimension=adhoc_dimension, reps=2, entanglement='linear')\n",
    "zz_kernel = QuantumKernel(feature_map=zz_feature_map, quantum_instance=quantum_instance)\n",
    "\n",
    "zz_feature_map.decompose().draw(output=\"mpl\", scale=2)"
   ]
  },
  {
   "cell_type": "code",
   "execution_count": 19,
   "metadata": {
    "slideshow": {
     "slide_type": "fragment"
    }
   },
   "outputs": [
    {
     "data": {
      "text/plain": [
       "1.0"
      ]
     },
     "execution_count": 19,
     "metadata": {},
     "output_type": "execute_result"
    }
   ],
   "source": [
    "svc = SVC(kernel=zz_kernel.evaluate)\n",
    "svc.fit(x_train, y_train)\n",
    "svc.score(x_test, y_test)"
   ]
  },
  {
   "cell_type": "markdown",
   "metadata": {
    "slideshow": {
     "slide_type": "slide"
    }
   },
   "source": [
    "# QSVC\n",
    "Qiskit Machine Learning also contains the `QSVC` class that extends the `scikit-learn` `SVC` class, that can be used as follows:"
   ]
  },
  {
   "cell_type": "code",
   "execution_count": 20,
   "metadata": {
    "slideshow": {
     "slide_type": "fragment"
    }
   },
   "outputs": [
    {
     "data": {
      "text/plain": [
       "1.0"
      ]
     },
     "execution_count": 20,
     "metadata": {},
     "output_type": "execute_result"
    }
   ],
   "source": [
    "from qiskit_machine_learning.algorithms import QSVC\n",
    "\n",
    "qsvc = QSVC()\n",
    "qsvc.quantum_kernel.quantum_instance = quantum_instance\n",
    "\n",
    "qsvc.fit(x_train, y_train)\n",
    "qsvc.score(x_test, y_test)"
   ]
  },
  {
   "cell_type": "code",
   "execution_count": 21,
   "metadata": {
    "slideshow": {
     "slide_type": "fragment"
    }
   },
   "outputs": [
    {
     "data": {
      "text/plain": [
       "array([0, 0, 0, 0, 0, 0, 0, 0, 0, 0, 1, 1, 1, 1, 1, 1, 1, 1, 1, 1])"
      ]
     },
     "execution_count": 21,
     "metadata": {},
     "output_type": "execute_result"
    }
   ],
   "source": [
    "qsvc.predict(x_test)"
   ]
  },
  {
   "cell_type": "markdown",
   "metadata": {
    "slideshow": {
     "slide_type": "slide"
    }
   },
   "source": [
    "# Additional Resources\n",
    "\n",
    "- A blog post \"Introducing Qiskit Machine Learning\":<br>\n",
    "https://medium.com/qiskit/introducing-qiskit-machine-learning-5f06b6597526\n",
    "<br>\n",
    "\n",
    "- Qiskit Machine Learning tutorials:<br>\n",
    "https://qiskit.org/documentation/machine-learning/tutorials/\n",
    "<br>\n",
    "\n",
    "- A paper by Vojtech Havlicek et al. \"Supervised learning with quantum enhanced feature spaces\":<br>\n",
    "https://www.nature.com/articles/s41586-019-0980-2\n",
    "<br>"
   ]
  },
  {
   "cell_type": "markdown",
   "metadata": {
    "slideshow": {
     "slide_type": "slide"
    }
   },
   "source": [
    "<center>\n",
    "Thank You!\n",
    "</center>"
   ]
  },
  {
   "cell_type": "code",
   "execution_count": null,
   "metadata": {},
   "outputs": [],
   "source": []
  }
 ],
 "metadata": {
  "kernelspec": {
   "display_name": "Python 3",
   "language": "python",
   "name": "python3"
  },
  "language_info": {
   "codemirror_mode": {
    "name": "ipython",
    "version": 3
   },
   "file_extension": ".py",
   "mimetype": "text/x-python",
   "name": "python",
   "nbconvert_exporter": "python",
   "pygments_lexer": "ipython3",
   "version": "3.7.9"
  }
 },
 "nbformat": 4,
 "nbformat_minor": 2
}
